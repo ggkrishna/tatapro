{
 "cells": [
  {
   "cell_type": "markdown",
   "metadata": {},
   "source": [
    "# Extracting the relavent data in a desired format from BMRB \"fullcs.lst\" file\n",
    "### Latest file can be obtained using the link below \n",
    "#### http://www.bmrb.wisc.edu/ftp/pub/bmrb/statistics/chem_shifts/common/fullcs.lst"
   ]
  },
  {
   "cell_type": "code",
   "execution_count": 88,
   "metadata": {
    "collapsed": true
   },
   "outputs": [],
   "source": [
    "import numpy as np\n",
    "import pandas as pd"
   ]
  },
  {
   "cell_type": "markdown",
   "metadata": {},
   "source": [
    "## Fullcs.lst "
   ]
  },
  {
   "cell_type": "code",
   "execution_count": 89,
   "metadata": {
    "collapsed": true
   },
   "outputs": [],
   "source": [
    "# fullcs.lst downloaded in APR-2017\n",
    "df=pd.read_csv('fullcs-APR17.lst',header=None, low_memory=False)"
   ]
  },
  {
   "cell_type": "code",
   "execution_count": 90,
   "metadata": {},
   "outputs": [
    {
     "name": "stdout",
     "output_type": "stream",
     "text": [
      "<class 'pandas.core.frame.DataFrame'>\n",
      "RangeIndex: 7817751 entries, 0 to 7817750\n",
      "Data columns (total 10 columns):\n",
      "0    int64\n",
      "1    object\n",
      "2    object\n",
      "3    int64\n",
      "4    object\n",
      "5    object\n",
      "6    object\n",
      "7    object\n",
      "8    float64\n",
      "9    object\n",
      "dtypes: float64(1), int64(2), object(7)\n",
      "memory usage: 596.4+ MB\n"
     ]
    }
   ],
   "source": [
    "df.info()"
   ]
  },
  {
   "cell_type": "code",
   "execution_count": 91,
   "metadata": {},
   "outputs": [
    {
     "data": {
      "text/html": [
       "<div>\n",
       "<style>\n",
       "    .dataframe thead tr:only-child th {\n",
       "        text-align: right;\n",
       "    }\n",
       "\n",
       "    .dataframe thead th {\n",
       "        text-align: left;\n",
       "    }\n",
       "\n",
       "    .dataframe tbody tr th {\n",
       "        vertical-align: top;\n",
       "    }\n",
       "</style>\n",
       "<table border=\"1\" class=\"dataframe\">\n",
       "  <thead>\n",
       "    <tr style=\"text-align: right;\">\n",
       "      <th></th>\n",
       "      <th>0</th>\n",
       "      <th>1</th>\n",
       "      <th>2</th>\n",
       "      <th>3</th>\n",
       "      <th>4</th>\n",
       "      <th>5</th>\n",
       "      <th>6</th>\n",
       "      <th>7</th>\n",
       "      <th>8</th>\n",
       "      <th>9</th>\n",
       "    </tr>\n",
       "  </thead>\n",
       "  <tbody>\n",
       "    <tr>\n",
       "      <th>0</th>\n",
       "      <td>1000</td>\n",
       "      <td>protein</td>\n",
       "      <td>insulin A chain</td>\n",
       "      <td>305</td>\n",
       "      <td>14</td>\n",
       "      <td>TYR</td>\n",
       "      <td>HD1</td>\n",
       "      <td>H</td>\n",
       "      <td>7.12</td>\n",
       "      <td>1</td>\n",
       "    </tr>\n",
       "    <tr>\n",
       "      <th>1</th>\n",
       "      <td>1000</td>\n",
       "      <td>protein</td>\n",
       "      <td>insulin A chain</td>\n",
       "      <td>306</td>\n",
       "      <td>14</td>\n",
       "      <td>TYR</td>\n",
       "      <td>HD2</td>\n",
       "      <td>H</td>\n",
       "      <td>7.12</td>\n",
       "      <td>1</td>\n",
       "    </tr>\n",
       "    <tr>\n",
       "      <th>2</th>\n",
       "      <td>1000</td>\n",
       "      <td>protein</td>\n",
       "      <td>insulin A chain</td>\n",
       "      <td>307</td>\n",
       "      <td>14</td>\n",
       "      <td>TYR</td>\n",
       "      <td>HE1</td>\n",
       "      <td>H</td>\n",
       "      <td>6.82</td>\n",
       "      <td>1</td>\n",
       "    </tr>\n",
       "    <tr>\n",
       "      <th>3</th>\n",
       "      <td>1000</td>\n",
       "      <td>protein</td>\n",
       "      <td>insulin A chain</td>\n",
       "      <td>308</td>\n",
       "      <td>14</td>\n",
       "      <td>TYR</td>\n",
       "      <td>HE2</td>\n",
       "      <td>H</td>\n",
       "      <td>6.82</td>\n",
       "      <td>1</td>\n",
       "    </tr>\n",
       "    <tr>\n",
       "      <th>4</th>\n",
       "      <td>1000</td>\n",
       "      <td>protein</td>\n",
       "      <td>insulin A chain</td>\n",
       "      <td>305</td>\n",
       "      <td>19</td>\n",
       "      <td>TYR</td>\n",
       "      <td>HD1</td>\n",
       "      <td>H</td>\n",
       "      <td>7.30</td>\n",
       "      <td>1</td>\n",
       "    </tr>\n",
       "  </tbody>\n",
       "</table>\n",
       "</div>"
      ],
      "text/plain": [
       "      0        1                2    3   4    5    6  7     8  9\n",
       "0  1000  protein  insulin A chain  305  14  TYR  HD1  H  7.12  1\n",
       "1  1000  protein  insulin A chain  306  14  TYR  HD2  H  7.12  1\n",
       "2  1000  protein  insulin A chain  307  14  TYR  HE1  H  6.82  1\n",
       "3  1000  protein  insulin A chain  308  14  TYR  HE2  H  6.82  1\n",
       "4  1000  protein  insulin A chain  305  19  TYR  HD1  H  7.30  1"
      ]
     },
     "execution_count": 91,
     "metadata": {},
     "output_type": "execute_result"
    }
   ],
   "source": [
    "df.head()"
   ]
  },
  {
   "cell_type": "markdown",
   "metadata": {},
   "source": [
    "### Drop the columns not required for our analysis"
   ]
  },
  {
   "cell_type": "code",
   "execution_count": 92,
   "metadata": {
    "collapsed": true
   },
   "outputs": [],
   "source": [
    "df.drop([2,3,7,9],axis=1,inplace=True)"
   ]
  },
  {
   "cell_type": "code",
   "execution_count": 93,
   "metadata": {},
   "outputs": [
    {
     "data": {
      "text/html": [
       "<div>\n",
       "<style>\n",
       "    .dataframe thead tr:only-child th {\n",
       "        text-align: right;\n",
       "    }\n",
       "\n",
       "    .dataframe thead th {\n",
       "        text-align: left;\n",
       "    }\n",
       "\n",
       "    .dataframe tbody tr th {\n",
       "        vertical-align: top;\n",
       "    }\n",
       "</style>\n",
       "<table border=\"1\" class=\"dataframe\">\n",
       "  <thead>\n",
       "    <tr style=\"text-align: right;\">\n",
       "      <th></th>\n",
       "      <th>0</th>\n",
       "      <th>1</th>\n",
       "      <th>4</th>\n",
       "      <th>5</th>\n",
       "      <th>6</th>\n",
       "      <th>8</th>\n",
       "    </tr>\n",
       "  </thead>\n",
       "  <tbody>\n",
       "    <tr>\n",
       "      <th>0</th>\n",
       "      <td>1000</td>\n",
       "      <td>protein</td>\n",
       "      <td>14</td>\n",
       "      <td>TYR</td>\n",
       "      <td>HD1</td>\n",
       "      <td>7.12</td>\n",
       "    </tr>\n",
       "    <tr>\n",
       "      <th>1</th>\n",
       "      <td>1000</td>\n",
       "      <td>protein</td>\n",
       "      <td>14</td>\n",
       "      <td>TYR</td>\n",
       "      <td>HD2</td>\n",
       "      <td>7.12</td>\n",
       "    </tr>\n",
       "    <tr>\n",
       "      <th>2</th>\n",
       "      <td>1000</td>\n",
       "      <td>protein</td>\n",
       "      <td>14</td>\n",
       "      <td>TYR</td>\n",
       "      <td>HE1</td>\n",
       "      <td>6.82</td>\n",
       "    </tr>\n",
       "    <tr>\n",
       "      <th>3</th>\n",
       "      <td>1000</td>\n",
       "      <td>protein</td>\n",
       "      <td>14</td>\n",
       "      <td>TYR</td>\n",
       "      <td>HE2</td>\n",
       "      <td>6.82</td>\n",
       "    </tr>\n",
       "    <tr>\n",
       "      <th>4</th>\n",
       "      <td>1000</td>\n",
       "      <td>protein</td>\n",
       "      <td>19</td>\n",
       "      <td>TYR</td>\n",
       "      <td>HD1</td>\n",
       "      <td>7.30</td>\n",
       "    </tr>\n",
       "  </tbody>\n",
       "</table>\n",
       "</div>"
      ],
      "text/plain": [
       "      0        1   4    5    6     8\n",
       "0  1000  protein  14  TYR  HD1  7.12\n",
       "1  1000  protein  14  TYR  HD2  7.12\n",
       "2  1000  protein  14  TYR  HE1  6.82\n",
       "3  1000  protein  14  TYR  HE2  6.82\n",
       "4  1000  protein  19  TYR  HD1  7.30"
      ]
     },
     "execution_count": 93,
     "metadata": {},
     "output_type": "execute_result"
    }
   ],
   "source": [
    "df.head()"
   ]
  },
  {
   "cell_type": "markdown",
   "metadata": {},
   "source": [
    "### Retain only the protein data "
   ]
  },
  {
   "cell_type": "code",
   "execution_count": 94,
   "metadata": {},
   "outputs": [
    {
     "data": {
      "text/plain": [
       "array(['protein', 'RNA', 'carbohydrate', 'ligand', 'DNA'], dtype=object)"
      ]
     },
     "execution_count": 94,
     "metadata": {},
     "output_type": "execute_result"
    }
   ],
   "source": [
    "# What others are present in the data?\n",
    "df[1].unique()"
   ]
  },
  {
   "cell_type": "code",
   "execution_count": 95,
   "metadata": {
    "collapsed": true
   },
   "outputs": [],
   "source": [
    "### drop other than proteins\n",
    "df.drop(df[df[1]!='protein'].index,inplace=True)"
   ]
  },
  {
   "cell_type": "markdown",
   "metadata": {},
   "source": [
    "### Retain data of 20 common amino acids"
   ]
  },
  {
   "cell_type": "code",
   "execution_count": 96,
   "metadata": {},
   "outputs": [
    {
     "data": {
      "text/plain": [
       "array(['TYR', 'ILE', 'ASN', 'TRP', 'LYS', 'GLY', 'ALA', 'MET', 'LEU',\n",
       "       'CLE', 'SER', 'PRO', 'CYS', 'GLU', 'ASP', 'VAL', 'THR', 'ARG',\n",
       "       'GLN', 'PHE', 'HIS', 'ILE_NH2', 'LYS_NH2', 'NH2', 'M3L', 'ALY',\n",
       "       'SEP', 'PTR', 'B27', 'DL', 'DV', 'AAC', 'AYA', 'ACE', 'PCA', 'PHF',\n",
       "       'AIB', 'DIV', 'HYP', 'PHL', 'DLE', 'DP', 'DS', 'DQ', 'TPO', 'NLE',\n",
       "       'DPN', 'MEA', '2ML', 'MLZ', 'MGY', 'DSE', 'MNV', 'MethylSER',\n",
       "       'ALA_AC', 'NFA', 'FTR', 'ORN', 'CHA', 'ALO', 'ABA', 'DHAX', 'DHBX',\n",
       "       'ALAS', 'ABUX', 'DSG', 'DAL', 'DSN', 'MEG', 'KYN', 'TYS', 'NLQ',\n",
       "       'SET', 'CYC', 'LYS_AC', 'THR_AC', 'NAL', 'DNS', 'PFX', 'FME', 'CSE',\n",
       "       'DGL', 'HEM_ox', 'PNS', 'LYR', '2KT', 'DHA', 'DBU', 'MLY', 'GPR',\n",
       "       'SAC', 'MYR', 'DPR', 'QUA', 'BB9', 'DCY', 'TS9', 'MH6', 'GYC',\n",
       "       'CY1', 'MK8', 'CEL', 'DTH', 'DTY', 'GND', 'M2L', 'CYM', 'TME',\n",
       "       'SRA', 'DAS', 'SNC', 'MSE', 'CY3', 'ABU', 'CRO', 'DAB', 'DLY',\n",
       "       'CGU', 'DBB', 'BEZ', 'M9P', 'MOZ', 'MH7', '3GL', 'NO1', '5CW',\n",
       "       'TEE', 'DHE', 'I4G', '81S', 'PHE_NH2', 'LEU_NH2', 'CYS_NH2', 'DTR',\n",
       "       'LTN', 'HIA', 'LPD', 'AOD', 'BTRP', 'BAL', 'UVR', 'NMeTRP', 'BLEU',\n",
       "       'B3L', 'PFF', 'X', 'TYU', 'T23', 'TUV', 'TUT', 'CTT', 'TRM', 'SAR',\n",
       "       'MLS', 'GM1', 'TYC', 'Dec_dzAb', 'dzAbu', 'Lan_DA', 'Delta_A',\n",
       "       'Lan_LA', 'MeLanDAb', 'MeLan_LA', 'AAR', 'AMD', 'PHQ', 'Ac_Aib',\n",
       "       'Aib', 'Phol', 'NVA', 'HIX', 'HSD', 'HEC', 'CMF', '4G6', '4FU',\n",
       "       'DVA', '4FO', '28J', '4HH', '4HJ', '4J4', '4J2', 'CY2', 'HE1',\n",
       "       'HIE', 'KCR', 'PH8', 'KCY', 'HCS', 'CST-2', 'WFP', 'S_Ppt', 'DAR',\n",
       "       'ALA_SUC', 'UN1', 'NLG', 'SIN', 'DOH', 'ONH', 'CHR', '3NF', 'LML',\n",
       "       'DGN', 'GTT', 'ASH', 'BASP', '0AZ', 'CYS-S', 'N-GLU', 'TPL', 'BNA',\n",
       "       'PYR', 'B-HIS', 'M-VAL', 'GUL', 'MAN', 'GNP', 'CSP', 'GLZ', 'SME',\n",
       "       'DNP', 'BCX', 'BSE', 'DAP', 'CLG', 'CLH', 'IIL', 'MLE', 'SEA',\n",
       "       'DNE', 'DNM', 'NAG', 'MUB', 'POP', 'TPLi', 'DHB_2', 'ABA_2',\n",
       "       'DHA_2', 'MLN_2', 'NAM_2', 'TPL_2', 'FDA', 'HOP', 'DHN', 'AA3',\n",
       "       'CHPCA', 'NCP_ALA', 'PE_PRO', 'DIL', 'PMALA', 'LME', 'IAM', 'IYR',\n",
       "       '193', 'HHK', 'HSL', 'SMC', 'CA1', 'UDP', 'AMU', 'KCX', 'NCPALA2',\n",
       "       'ATHR', 'PEPRO', 'PHEME1', 'NCPALA1', 'PHEME2', 'SEC', 'MEK',\n",
       "       'HYPR', 'AFC', 'For_V', 'W_Etn'], dtype=object)"
      ]
     },
     "execution_count": 96,
     "metadata": {},
     "output_type": "execute_result"
    }
   ],
   "source": [
    "# what are all the amino acids in the list?\n",
    "df[5].unique()"
   ]
  },
  {
   "cell_type": "code",
   "execution_count": 97,
   "metadata": {
    "collapsed": true
   },
   "outputs": [],
   "source": [
    "# 20 common amino acids\n",
    "aa20=['ALA','ARG','ASN','ASP','CYS','GLN','GLU','GLY','HIS','ILE','LEU','LYS','MET','PHE','PRO','SER','THR','TRP','TYR','VAL']"
   ]
  },
  {
   "cell_type": "code",
   "execution_count": 98,
   "metadata": {
    "collapsed": true
   },
   "outputs": [],
   "source": [
    "# retain the only data of 20 common amino acids\n",
    "df.drop(df[~df[5].isin(aa20)].index, inplace=True)"
   ]
  },
  {
   "cell_type": "markdown",
   "metadata": {},
   "source": [
    "### Retain data of back bone and few side chain atoms "
   ]
  },
  {
   "cell_type": "code",
   "execution_count": 99,
   "metadata": {},
   "outputs": [
    {
     "data": {
      "text/plain": [
       "array(['HD1', 'HD2', 'HE1', 'HE2', 'C', 'CA', 'CB', 'CD1', 'CG1', 'CG2',\n",
       "       'N', 'CG', 'ND2', 'CD2', 'CE2', 'CE3', 'CH2', 'CZ2', 'CZ3', 'NE1',\n",
       "       'CD', 'CE', 'NZ', 'HA', 'HB2', 'HB3', 'H', 'HB', 'HG12', 'HG13',\n",
       "       'HG2', 'HG3', 'HD3', 'HG', 'HE3', 'HZ2', 'HZ3', 'HH2', 'HG1', 'HA2',\n",
       "       'HA3', 'HE', 'NE', 'HE21', 'HE22', 'NE2', 'HD21', 'HD22', 'HZ',\n",
       "       'CE1', 'CZ', 'HH11', 'HH12', 'HH21', 'HH22', 'ND1', 'NH1', 'NH2',\n",
       "       'HH', 'H2', 'H28', 'H3', 'H42', 'H43', 'H44', 'H45', 'H46', 'H47',\n",
       "       'H48', 'H49', 'H50', 'C18', 'C19', 'C47', 'C48', 'C49', 'C50'], dtype=object)"
      ]
     },
     "execution_count": 99,
     "metadata": {},
     "output_type": "execute_result"
    }
   ],
   "source": [
    "# what are all the atoms we have?\n",
    "df[6].unique()"
   ]
  },
  {
   "cell_type": "code",
   "execution_count": 100,
   "metadata": {
    "collapsed": true
   },
   "outputs": [],
   "source": [
    "# atoms of our interest\n",
    "atms=['N','H','CA','CB','C','HA','HA2','HA3','HB','HB2','HB3']"
   ]
  },
  {
   "cell_type": "code",
   "execution_count": 101,
   "metadata": {
    "collapsed": true
   },
   "outputs": [],
   "source": [
    "# retain the only data of atoms of our interest\n",
    "df.drop(df[~df[6].isin(atms)].index, inplace=True)"
   ]
  },
  {
   "cell_type": "code",
   "execution_count": 102,
   "metadata": {},
   "outputs": [
    {
     "data": {
      "text/html": [
       "<div>\n",
       "<style>\n",
       "    .dataframe thead tr:only-child th {\n",
       "        text-align: right;\n",
       "    }\n",
       "\n",
       "    .dataframe thead th {\n",
       "        text-align: left;\n",
       "    }\n",
       "\n",
       "    .dataframe tbody tr th {\n",
       "        vertical-align: top;\n",
       "    }\n",
       "</style>\n",
       "<table border=\"1\" class=\"dataframe\">\n",
       "  <thead>\n",
       "    <tr style=\"text-align: right;\">\n",
       "      <th></th>\n",
       "      <th>0</th>\n",
       "      <th>1</th>\n",
       "      <th>4</th>\n",
       "      <th>5</th>\n",
       "      <th>6</th>\n",
       "      <th>8</th>\n",
       "    </tr>\n",
       "  </thead>\n",
       "  <tbody>\n",
       "    <tr>\n",
       "      <th>8</th>\n",
       "      <td>10001</td>\n",
       "      <td>protein</td>\n",
       "      <td>1</td>\n",
       "      <td>ILE</td>\n",
       "      <td>C</td>\n",
       "      <td>172.8</td>\n",
       "    </tr>\n",
       "    <tr>\n",
       "      <th>9</th>\n",
       "      <td>10001</td>\n",
       "      <td>protein</td>\n",
       "      <td>1</td>\n",
       "      <td>ILE</td>\n",
       "      <td>CA</td>\n",
       "      <td>59.2</td>\n",
       "    </tr>\n",
       "    <tr>\n",
       "      <th>10</th>\n",
       "      <td>10001</td>\n",
       "      <td>protein</td>\n",
       "      <td>1</td>\n",
       "      <td>ILE</td>\n",
       "      <td>CB</td>\n",
       "      <td>37.5</td>\n",
       "    </tr>\n",
       "    <tr>\n",
       "      <th>14</th>\n",
       "      <td>10001</td>\n",
       "      <td>protein</td>\n",
       "      <td>1</td>\n",
       "      <td>ILE</td>\n",
       "      <td>N</td>\n",
       "      <td>36.9</td>\n",
       "    </tr>\n",
       "    <tr>\n",
       "      <th>15</th>\n",
       "      <td>10001</td>\n",
       "      <td>protein</td>\n",
       "      <td>2</td>\n",
       "      <td>ASN</td>\n",
       "      <td>C</td>\n",
       "      <td>175.1</td>\n",
       "    </tr>\n",
       "  </tbody>\n",
       "</table>\n",
       "</div>"
      ],
      "text/plain": [
       "        0        1  4    5   6      8\n",
       "8   10001  protein  1  ILE   C  172.8\n",
       "9   10001  protein  1  ILE  CA   59.2\n",
       "10  10001  protein  1  ILE  CB   37.5\n",
       "14  10001  protein  1  ILE   N   36.9\n",
       "15  10001  protein  2  ASN   C  175.1"
      ]
     },
     "execution_count": 102,
     "metadata": {},
     "output_type": "execute_result"
    }
   ],
   "source": [
    "df.head()"
   ]
  },
  {
   "cell_type": "markdown",
   "metadata": {},
   "source": [
    "## Pivot the table "
   ]
  },
  {
   "cell_type": "code",
   "execution_count": 103,
   "metadata": {
    "collapsed": true
   },
   "outputs": [],
   "source": [
    "df=df.pivot_table(index=[0,4,5],columns=6,values=8)"
   ]
  },
  {
   "cell_type": "code",
   "execution_count": 104,
   "metadata": {},
   "outputs": [
    {
     "data": {
      "text/html": [
       "<div>\n",
       "<style>\n",
       "    .dataframe thead tr:only-child th {\n",
       "        text-align: right;\n",
       "    }\n",
       "\n",
       "    .dataframe thead th {\n",
       "        text-align: left;\n",
       "    }\n",
       "\n",
       "    .dataframe tbody tr th {\n",
       "        vertical-align: top;\n",
       "    }\n",
       "</style>\n",
       "<table border=\"1\" class=\"dataframe\">\n",
       "  <thead>\n",
       "    <tr style=\"text-align: right;\">\n",
       "      <th></th>\n",
       "      <th></th>\n",
       "      <th>6</th>\n",
       "      <th>C</th>\n",
       "      <th>CA</th>\n",
       "      <th>CB</th>\n",
       "      <th>H</th>\n",
       "      <th>HA</th>\n",
       "      <th>HA2</th>\n",
       "      <th>HA3</th>\n",
       "      <th>HB</th>\n",
       "      <th>HB2</th>\n",
       "      <th>HB3</th>\n",
       "      <th>N</th>\n",
       "    </tr>\n",
       "    <tr>\n",
       "      <th>0</th>\n",
       "      <th>4</th>\n",
       "      <th>5</th>\n",
       "      <th></th>\n",
       "      <th></th>\n",
       "      <th></th>\n",
       "      <th></th>\n",
       "      <th></th>\n",
       "      <th></th>\n",
       "      <th></th>\n",
       "      <th></th>\n",
       "      <th></th>\n",
       "      <th></th>\n",
       "      <th></th>\n",
       "    </tr>\n",
       "  </thead>\n",
       "  <tbody>\n",
       "    <tr>\n",
       "      <th rowspan=\"5\" valign=\"top\">3</th>\n",
       "      <th>1</th>\n",
       "      <th>SER</th>\n",
       "      <td>NaN</td>\n",
       "      <td>NaN</td>\n",
       "      <td>NaN</td>\n",
       "      <td>NaN</td>\n",
       "      <td>4.44</td>\n",
       "      <td>NaN</td>\n",
       "      <td>NaN</td>\n",
       "      <td>NaN</td>\n",
       "      <td>4.11</td>\n",
       "      <td>3.93</td>\n",
       "      <td>NaN</td>\n",
       "    </tr>\n",
       "    <tr>\n",
       "      <th>10</th>\n",
       "      <th>ILE</th>\n",
       "      <td>NaN</td>\n",
       "      <td>NaN</td>\n",
       "      <td>NaN</td>\n",
       "      <td>7.72</td>\n",
       "      <td>3.91</td>\n",
       "      <td>NaN</td>\n",
       "      <td>NaN</td>\n",
       "      <td>2.15</td>\n",
       "      <td>NaN</td>\n",
       "      <td>NaN</td>\n",
       "      <td>NaN</td>\n",
       "    </tr>\n",
       "    <tr>\n",
       "      <th>11</th>\n",
       "      <th>ILE</th>\n",
       "      <td>NaN</td>\n",
       "      <td>NaN</td>\n",
       "      <td>NaN</td>\n",
       "      <td>8.33</td>\n",
       "      <td>3.46</td>\n",
       "      <td>NaN</td>\n",
       "      <td>NaN</td>\n",
       "      <td>1.91</td>\n",
       "      <td>NaN</td>\n",
       "      <td>NaN</td>\n",
       "      <td>NaN</td>\n",
       "    </tr>\n",
       "    <tr>\n",
       "      <th>12</th>\n",
       "      <th>GLY</th>\n",
       "      <td>NaN</td>\n",
       "      <td>NaN</td>\n",
       "      <td>NaN</td>\n",
       "      <td>8.41</td>\n",
       "      <td>NaN</td>\n",
       "      <td>3.7</td>\n",
       "      <td>3.86</td>\n",
       "      <td>NaN</td>\n",
       "      <td>NaN</td>\n",
       "      <td>NaN</td>\n",
       "      <td>NaN</td>\n",
       "    </tr>\n",
       "    <tr>\n",
       "      <th>13</th>\n",
       "      <th>GLU</th>\n",
       "      <td>NaN</td>\n",
       "      <td>NaN</td>\n",
       "      <td>NaN</td>\n",
       "      <td>8.20</td>\n",
       "      <td>4.11</td>\n",
       "      <td>NaN</td>\n",
       "      <td>NaN</td>\n",
       "      <td>NaN</td>\n",
       "      <td>2.18</td>\n",
       "      <td>2.24</td>\n",
       "      <td>NaN</td>\n",
       "    </tr>\n",
       "  </tbody>\n",
       "</table>\n",
       "</div>"
      ],
      "text/plain": [
       "6          C  CA  CB     H    HA  HA2   HA3    HB   HB2   HB3   N\n",
       "0 4  5                                                           \n",
       "3 1  SER NaN NaN NaN   NaN  4.44  NaN   NaN   NaN  4.11  3.93 NaN\n",
       "  10 ILE NaN NaN NaN  7.72  3.91  NaN   NaN  2.15   NaN   NaN NaN\n",
       "  11 ILE NaN NaN NaN  8.33  3.46  NaN   NaN  1.91   NaN   NaN NaN\n",
       "  12 GLY NaN NaN NaN  8.41   NaN  3.7  3.86   NaN   NaN   NaN NaN\n",
       "  13 GLU NaN NaN NaN  8.20  4.11  NaN   NaN   NaN  2.18  2.24 NaN"
      ]
     },
     "execution_count": 104,
     "metadata": {},
     "output_type": "execute_result"
    }
   ],
   "source": [
    "df.head()"
   ]
  },
  {
   "cell_type": "markdown",
   "metadata": {},
   "source": [
    "#### Save the all protein data in desired structure "
   ]
  },
  {
   "cell_type": "code",
   "execution_count": 105,
   "metadata": {
    "collapsed": true
   },
   "outputs": [],
   "source": [
    "df.to_csv('All_aa.csv')"
   ]
  },
  {
   "cell_type": "markdown",
   "metadata": {},
   "source": [
    "#### All_aa.csv consists of data related to common 20 amino acids with relavent back bone and few side chain atoms chemical shift information. Missing data is represented by NaN."
   ]
  },
  {
   "cell_type": "markdown",
   "metadata": {},
   "source": [
    "## Further cleaning"
   ]
  },
  {
   "cell_type": "code",
   "execution_count": 106,
   "metadata": {
    "collapsed": true
   },
   "outputs": [],
   "source": [
    "df=pd.read_csv('All_aa.csv')"
   ]
  },
  {
   "cell_type": "code",
   "execution_count": 107,
   "metadata": {
    "collapsed": true
   },
   "outputs": [],
   "source": [
    "# rename columns\n",
    "#AccNo - BMRB Accession Number\n",
    "# AANo - Amino acid position in the sequence\n",
    "df=df.rename(columns={'0':'AccNo','4':'AANo','5':'AA'})"
   ]
  },
  {
   "cell_type": "markdown",
   "metadata": {},
   "source": [
    "### Data withrespect to particular N-H pair"
   ]
  },
  {
   "cell_type": "code",
   "execution_count": 109,
   "metadata": {},
   "outputs": [],
   "source": [
    "# re-arrange the columns\n",
    "df=df[['AccNo', 'AANo', 'AA', 'N','H', 'CA', 'CB','C','HA', 'HA2', 'HA3', 'HB',\n",
    "       'HB2', 'HB3']]"
   ]
  },
  {
   "cell_type": "code",
   "execution_count": 151,
   "metadata": {},
   "outputs": [],
   "source": [
    "# data without N-H pair information is of no use \n",
    "df.dropna(subset=['N','H'],inplace=True)"
   ]
  },
  {
   "cell_type": "code",
   "execution_count": 155,
   "metadata": {},
   "outputs": [
    {
     "name": "stdout",
     "output_type": "stream",
     "text": [
      "<class 'pandas.core.frame.DataFrame'>\n",
      "Int64Index: 800733 entries, 2145 to 946310\n",
      "Data columns (total 14 columns):\n",
      "AccNo    800733 non-null int64\n",
      "AANo     800733 non-null int64\n",
      "AA       800733 non-null object\n",
      "N        800733 non-null float64\n",
      "H        800733 non-null float64\n",
      "CA       730810 non-null float64\n",
      "CB       638894 non-null float64\n",
      "C        533721 non-null float64\n",
      "HA       526425 non-null float64\n",
      "HA2      41508 non-null float64\n",
      "HA3      39780 non-null float64\n",
      "HB       141080 non-null float64\n",
      "HB2      347609 non-null float64\n",
      "HB3      331866 non-null float64\n",
      "dtypes: float64(11), int64(2), object(1)\n",
      "memory usage: 91.6+ MB\n"
     ]
    }
   ],
   "source": [
    "df.info()"
   ]
  },
  {
   "cell_type": "markdown",
   "metadata": {},
   "source": [
    "# For (CA,CB) analysis\n",
    "#### Gly will be automatically removed as it wont consists of cb\n",
    "#### Prolene removed as it laks amide proton"
   ]
  },
  {
   "cell_type": "code",
   "execution_count": 214,
   "metadata": {
    "collapsed": true
   },
   "outputs": [],
   "source": [
    "df_cacb=df[['AccNo', 'AANo', 'AA', 'N','H', 'CA', 'CB']].copy()"
   ]
  },
  {
   "cell_type": "code",
   "execution_count": 217,
   "metadata": {},
   "outputs": [],
   "source": [
    "df_cacb.dropna(subset=['CA','CB'],inplace=True)"
   ]
  },
  {
   "cell_type": "code",
   "execution_count": 230,
   "metadata": {},
   "outputs": [
    {
     "data": {
      "text/html": [
       "<div>\n",
       "<style>\n",
       "    .dataframe thead tr:only-child th {\n",
       "        text-align: right;\n",
       "    }\n",
       "\n",
       "    .dataframe thead th {\n",
       "        text-align: left;\n",
       "    }\n",
       "\n",
       "    .dataframe tbody tr th {\n",
       "        vertical-align: top;\n",
       "    }\n",
       "</style>\n",
       "<table border=\"1\" class=\"dataframe\">\n",
       "  <thead>\n",
       "    <tr style=\"text-align: right;\">\n",
       "      <th></th>\n",
       "      <th>AccNo</th>\n",
       "      <th>AANo</th>\n",
       "      <th>AA</th>\n",
       "      <th>N</th>\n",
       "      <th>H</th>\n",
       "      <th>CA</th>\n",
       "      <th>CB</th>\n",
       "    </tr>\n",
       "  </thead>\n",
       "  <tbody>\n",
       "    <tr>\n",
       "      <th>7180</th>\n",
       "      <td>447</td>\n",
       "      <td>10</td>\n",
       "      <td>GLU</td>\n",
       "      <td>126.3</td>\n",
       "      <td>9.45</td>\n",
       "      <td>57.7</td>\n",
       "      <td>29.2</td>\n",
       "    </tr>\n",
       "    <tr>\n",
       "      <th>7181</th>\n",
       "      <td>447</td>\n",
       "      <td>11</td>\n",
       "      <td>ALA</td>\n",
       "      <td>122.8</td>\n",
       "      <td>8.35</td>\n",
       "      <td>53.3</td>\n",
       "      <td>16.7</td>\n",
       "    </tr>\n",
       "    <tr>\n",
       "      <th>7182</th>\n",
       "      <td>447</td>\n",
       "      <td>12</td>\n",
       "      <td>GLU</td>\n",
       "      <td>115.0</td>\n",
       "      <td>7.23</td>\n",
       "      <td>54.2</td>\n",
       "      <td>29.6</td>\n",
       "    </tr>\n",
       "    <tr>\n",
       "      <th>7184</th>\n",
       "      <td>447</td>\n",
       "      <td>14</td>\n",
       "      <td>THR</td>\n",
       "      <td>108.9</td>\n",
       "      <td>7.58</td>\n",
       "      <td>57.9</td>\n",
       "      <td>70.2</td>\n",
       "    </tr>\n",
       "    <tr>\n",
       "      <th>7185</th>\n",
       "      <td>447</td>\n",
       "      <td>15</td>\n",
       "      <td>LYS</td>\n",
       "      <td>123.7</td>\n",
       "      <td>8.20</td>\n",
       "      <td>54.0</td>\n",
       "      <td>33.1</td>\n",
       "    </tr>\n",
       "  </tbody>\n",
       "</table>\n",
       "</div>"
      ],
      "text/plain": [
       "      AccNo  AANo   AA      N     H    CA    CB\n",
       "7180    447    10  GLU  126.3  9.45  57.7  29.2\n",
       "7181    447    11  ALA  122.8  8.35  53.3  16.7\n",
       "7182    447    12  GLU  115.0  7.23  54.2  29.6\n",
       "7184    447    14  THR  108.9  7.58  57.9  70.2\n",
       "7185    447    15  LYS  123.7  8.20  54.0  33.1"
      ]
     },
     "execution_count": 230,
     "metadata": {},
     "output_type": "execute_result"
    }
   ],
   "source": [
    "df_cacb.head()"
   ]
  },
  {
   "cell_type": "code",
   "execution_count": 227,
   "metadata": {},
   "outputs": [
    {
     "name": "stdout",
     "output_type": "stream",
     "text": [
      "GLU \t 56507 \t 8.895350118537502\n",
      "ALA \t 53944 \t 8.491881834009716\n",
      "THR \t 39612 \t 6.23573378334556\n",
      "LYS \t 50965 \t 8.022926695652995\n",
      "HIS \t 15123 \t 2.3806675251321545\n",
      "ILE \t 38156 \t 6.006529794944289\n",
      "VAL \t 49762 \t 7.83355004864288\n",
      "ASP \t 43612 \t 6.865415070162237\n",
      "TYR \t 22125 \t 3.482924617704749\n",
      "LEU \t 63165 \t 9.943454620443863\n",
      "PHE \t 26903 \t 4.2350789148072705\n",
      "GLN \t 30678 \t 4.82934062924051\n",
      "SER \t 44688 \t 7.034799336315924\n",
      "ASN \t 29552 \t 4.6520853470016155\n",
      "MET \t 14738 \t 2.320060701276049\n",
      "ARG \t 35060 \t 5.51915647894818\n",
      "CYS \t 12088 \t 1.9028968487600002\n",
      "TRP \t 8564 \t 1.348147635074507\n"
     ]
    }
   ],
   "source": [
    "for aa in df_cacb['AA'].unique():\n",
    "    print(aa,'\\t',len(df_cacb[df_cacb['AA']==aa]),'\\t',len(df_cacb[df_cacb['AA']==aa])*100/len(df_cacb))"
   ]
  },
  {
   "cell_type": "code",
   "execution_count": 228,
   "metadata": {},
   "outputs": [
    {
     "name": "stdout",
     "output_type": "stream",
     "text": [
      "<class 'pandas.core.frame.DataFrame'>\n",
      "Int64Index: 635242 entries, 7180 to 946310\n",
      "Data columns (total 7 columns):\n",
      "AccNo    635242 non-null int64\n",
      "AANo     635242 non-null int64\n",
      "AA       635242 non-null object\n",
      "N        635242 non-null float64\n",
      "H        635242 non-null float64\n",
      "CA       635242 non-null float64\n",
      "CB       635242 non-null float64\n",
      "dtypes: float64(4), int64(2), object(1)\n",
      "memory usage: 38.8+ MB\n"
     ]
    }
   ],
   "source": [
    "df_cacb.info()"
   ]
  },
  {
   "cell_type": "markdown",
   "metadata": {
    "collapsed": true
   },
   "source": [
    "# For (CA,CB,HB) analysis\n",
    "\n",
    "#### HB include HB, HB2,HB3 \n",
    "#### How good it is to take average of three?"
   ]
  },
  {
   "cell_type": "code",
   "execution_count": 236,
   "metadata": {},
   "outputs": [],
   "source": [
    "df_cacbhb=df[['AccNo', 'AANo', 'AA', 'N','H', 'CA', 'CB','HB','HB2','HB3']].copy()"
   ]
  },
  {
   "cell_type": "code",
   "execution_count": 237,
   "metadata": {
    "collapsed": true
   },
   "outputs": [],
   "source": [
    "df_cacbhb.dropna(subset=['CA','CB'],inplace=True)"
   ]
  },
  {
   "cell_type": "code",
   "execution_count": 243,
   "metadata": {},
   "outputs": [],
   "source": [
    "df_cacbhb.dropna(subset=['HB','HB2','HB3'],how='all',inplace=True)"
   ]
  },
  {
   "cell_type": "code",
   "execution_count": 247,
   "metadata": {},
   "outputs": [],
   "source": [
    "df_cacbhb['hb']=df_cacbhb[['HB','HB2','HB3']].mean(axis=1)"
   ]
  },
  {
   "cell_type": "code",
   "execution_count": 266,
   "metadata": {},
   "outputs": [
    {
     "data": {
      "image/png": "[encoded data removed]",
      "text/plain": [
       "<matplotlib.figure.Figure at 0x22d8fb6a0>"
      ]
     },
     "metadata": {},
     "output_type": "display_data"
    }
   ],
   "source": [
    "(abs(df_cacbhb['HB2']-df_cacbhb['HB3'])).hist(bins=1000)\n",
    "plt.xlim(-0.5,2)\n",
    "plt.show()"
   ]
  },
  {
   "cell_type": "markdown",
   "metadata": {},
   "source": [
    "#### |hb2-hb3| < 1.0 so their average can be taken as HB"
   ]
  },
  {
   "cell_type": "code",
   "execution_count": 282,
   "metadata": {},
   "outputs": [],
   "source": [
    "df_cacbhb.drop(['HB','HB2','HB3'],axis=1,inplace=True)"
   ]
  },
  {
   "cell_type": "code",
   "execution_count": 284,
   "metadata": {},
   "outputs": [],
   "source": [
    "df_cacbhb.rename(columns={'hb':'HB'},inplace=True)"
   ]
  },
  {
   "cell_type": "code",
   "execution_count": 285,
   "metadata": {},
   "outputs": [
    {
     "data": {
      "text/html": [
       "<div>\n",
       "<style>\n",
       "    .dataframe thead tr:only-child th {\n",
       "        text-align: right;\n",
       "    }\n",
       "\n",
       "    .dataframe thead th {\n",
       "        text-align: left;\n",
       "    }\n",
       "\n",
       "    .dataframe tbody tr th {\n",
       "        vertical-align: top;\n",
       "    }\n",
       "</style>\n",
       "<table border=\"1\" class=\"dataframe\">\n",
       "  <thead>\n",
       "    <tr style=\"text-align: right;\">\n",
       "      <th></th>\n",
       "      <th>AccNo</th>\n",
       "      <th>AANo</th>\n",
       "      <th>AA</th>\n",
       "      <th>N</th>\n",
       "      <th>H</th>\n",
       "      <th>CA</th>\n",
       "      <th>CB</th>\n",
       "      <th>HB</th>\n",
       "    </tr>\n",
       "  </thead>\n",
       "  <tbody>\n",
       "    <tr>\n",
       "      <th>7180</th>\n",
       "      <td>447</td>\n",
       "      <td>10</td>\n",
       "      <td>GLU</td>\n",
       "      <td>126.3</td>\n",
       "      <td>9.45</td>\n",
       "      <td>57.7</td>\n",
       "      <td>29.2</td>\n",
       "      <td>2.050</td>\n",
       "    </tr>\n",
       "    <tr>\n",
       "      <th>7181</th>\n",
       "      <td>447</td>\n",
       "      <td>11</td>\n",
       "      <td>ALA</td>\n",
       "      <td>122.8</td>\n",
       "      <td>8.35</td>\n",
       "      <td>53.3</td>\n",
       "      <td>16.7</td>\n",
       "      <td>1.500</td>\n",
       "    </tr>\n",
       "    <tr>\n",
       "      <th>7182</th>\n",
       "      <td>447</td>\n",
       "      <td>12</td>\n",
       "      <td>GLU</td>\n",
       "      <td>115.0</td>\n",
       "      <td>7.23</td>\n",
       "      <td>54.2</td>\n",
       "      <td>29.6</td>\n",
       "      <td>1.845</td>\n",
       "    </tr>\n",
       "    <tr>\n",
       "      <th>7184</th>\n",
       "      <td>447</td>\n",
       "      <td>14</td>\n",
       "      <td>THR</td>\n",
       "      <td>108.9</td>\n",
       "      <td>7.58</td>\n",
       "      <td>57.9</td>\n",
       "      <td>70.2</td>\n",
       "      <td>3.830</td>\n",
       "    </tr>\n",
       "    <tr>\n",
       "      <th>7185</th>\n",
       "      <td>447</td>\n",
       "      <td>15</td>\n",
       "      <td>LYS</td>\n",
       "      <td>123.7</td>\n",
       "      <td>8.20</td>\n",
       "      <td>54.0</td>\n",
       "      <td>33.1</td>\n",
       "      <td>1.570</td>\n",
       "    </tr>\n",
       "  </tbody>\n",
       "</table>\n",
       "</div>"
      ],
      "text/plain": [
       "      AccNo  AANo   AA      N     H    CA    CB     HB\n",
       "7180    447    10  GLU  126.3  9.45  57.7  29.2  2.050\n",
       "7181    447    11  ALA  122.8  8.35  53.3  16.7  1.500\n",
       "7182    447    12  GLU  115.0  7.23  54.2  29.6  1.845\n",
       "7184    447    14  THR  108.9  7.58  57.9  70.2  3.830\n",
       "7185    447    15  LYS  123.7  8.20  54.0  33.1  1.570"
      ]
     },
     "execution_count": 285,
     "metadata": {},
     "output_type": "execute_result"
    }
   ],
   "source": [
    "df_cacbhb.head()"
   ]
  },
  {
   "cell_type": "markdown",
   "metadata": {},
   "source": [
    "### Why HB?"
   ]
  },
  {
   "cell_type": "code",
   "execution_count": 297,
   "metadata": {},
   "outputs": [
    {
     "data": {
      "image/png": "[encoded data removed]",
      "text/plain": [
       "<matplotlib.figure.Figure at 0x1a346d6a0>"
      ]
     },
     "metadata": {},
     "output_type": "display_data"
    }
   ],
   "source": [
    "df_cacbhb['HB'].hist(bins=1000)\n",
    "plt.xlim(0,8)\n",
    "plt.show()"
   ]
  },
  {
   "cell_type": "code",
   "execution_count": 298,
   "metadata": {},
   "outputs": [
    {
     "name": "stdout",
     "output_type": "stream",
     "text": [
      "<class 'pandas.core.frame.DataFrame'>\n",
      "Int64Index: 463015 entries, 7180 to 946310\n",
      "Data columns (total 8 columns):\n",
      "AccNo    463015 non-null int64\n",
      "AANo     463015 non-null int64\n",
      "AA       463015 non-null object\n",
      "N        463015 non-null float64\n",
      "H        463015 non-null float64\n",
      "CA       463015 non-null float64\n",
      "CB       463015 non-null float64\n",
      "HB       463015 non-null float64\n",
      "dtypes: float64(5), int64(2), object(1)\n",
      "memory usage: 31.8+ MB\n"
     ]
    }
   ],
   "source": [
    "df_cacbhb.info()"
   ]
  },
  {
   "cell_type": "code",
   "execution_count": 300,
   "metadata": {
    "collapsed": true
   },
   "outputs": [],
   "source": [
    "df_cacbhb.to_csv('CACBHB.csv')"
   ]
  },
  {
   "cell_type": "markdown",
   "metadata": {},
   "source": [
    "## 'CACBHB.csv' is the file that consists of all the data required for our analysis both (CA,CB) & (CA,CB,HB) chemical shift spaces"
   ]
  },
  {
   "cell_type": "code",
   "execution_count": null,
   "metadata": {
    "collapsed": true
   },
   "outputs": [],
   "source": []
  }
 ],
 "metadata": {
  "anaconda-cloud": {},
  "kernelspec": {
   "display_name": "Python 3",
   "language": "python",
   "name": "python3"
  },
  "language_info": {
   "codemirror_mode": {
    "name": "ipython",
    "version": 3
   },
   "file_extension": ".py",
   "mimetype": "text/x-python",
   "name": "python",
   "nbconvert_exporter": "python",
   "pygments_lexer": "ipython3",
   "version": "3.6.1"
  }
 },
 "nbformat": 4,
 "nbformat_minor": 1
}
