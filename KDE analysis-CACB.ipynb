{
 "cells": [
  {
   "cell_type": "code",
   "execution_count": 1,
   "metadata": {
    "collapsed": true
   },
   "outputs": [],
   "source": [
    "import numpy as np\n",
    "import pandas as pd\n",
    "from sklearn.neighbors import NearestNeighbors\n",
    "import math\n",
    "import scipy.stats as st"
   ]
  },
  {
   "cell_type": "code",
   "execution_count": 2,
   "metadata": {
    "collapsed": true
   },
   "outputs": [],
   "source": [
    "import matplotlib.pyplot as plt"
   ]
  },
  {
   "cell_type": "markdown",
   "metadata": {},
   "source": [
    "### Read cleaned BMRB data from 'CACBHB.csv'"
   ]
  },
  {
   "cell_type": "code",
   "execution_count": 3,
   "metadata": {
    "collapsed": true
   },
   "outputs": [],
   "source": [
    "df=pd.read_csv('CACBHB.csv',index_col=0,float_precision=0.2)\n",
    "tot=len(df)"
   ]
  },
  {
   "cell_type": "code",
   "execution_count": 4,
   "metadata": {},
   "outputs": [
    {
     "data": {
      "text/html": [
       "<div>\n",
       "<style>\n",
       "    .dataframe thead tr:only-child th {\n",
       "        text-align: right;\n",
       "    }\n",
       "\n",
       "    .dataframe thead th {\n",
       "        text-align: left;\n",
       "    }\n",
       "\n",
       "    .dataframe tbody tr th {\n",
       "        vertical-align: top;\n",
       "    }\n",
       "</style>\n",
       "<table border=\"1\" class=\"dataframe\">\n",
       "  <thead>\n",
       "    <tr style=\"text-align: right;\">\n",
       "      <th></th>\n",
       "      <th>AccNo</th>\n",
       "      <th>AANo</th>\n",
       "      <th>AANM</th>\n",
       "      <th>C</th>\n",
       "      <th>CA</th>\n",
       "      <th>CB</th>\n",
       "      <th>H</th>\n",
       "      <th>HB</th>\n",
       "      <th>N</th>\n",
       "    </tr>\n",
       "  </thead>\n",
       "  <tbody>\n",
       "    <tr>\n",
       "      <th>0</th>\n",
       "      <td>447</td>\n",
       "      <td>2</td>\n",
       "      <td>THR</td>\n",
       "      <td>170.8</td>\n",
       "      <td>59.2</td>\n",
       "      <td>69.1</td>\n",
       "      <td>8.06</td>\n",
       "      <td>3.740</td>\n",
       "      <td>114.5</td>\n",
       "    </tr>\n",
       "    <tr>\n",
       "      <th>1</th>\n",
       "      <td>447</td>\n",
       "      <td>3</td>\n",
       "      <td>PHE</td>\n",
       "      <td>NaN</td>\n",
       "      <td>55.3</td>\n",
       "      <td>41.2</td>\n",
       "      <td>8.58</td>\n",
       "      <td>2.820</td>\n",
       "      <td>124.7</td>\n",
       "    </tr>\n",
       "    <tr>\n",
       "      <th>2</th>\n",
       "      <td>447</td>\n",
       "      <td>4</td>\n",
       "      <td>LYS</td>\n",
       "      <td>174.7</td>\n",
       "      <td>54.3</td>\n",
       "      <td>31.2</td>\n",
       "      <td>9.17</td>\n",
       "      <td>1.505</td>\n",
       "      <td>124.1</td>\n",
       "    </tr>\n",
       "    <tr>\n",
       "      <th>3</th>\n",
       "      <td>447</td>\n",
       "      <td>5</td>\n",
       "      <td>VAL</td>\n",
       "      <td>NaN</td>\n",
       "      <td>59.1</td>\n",
       "      <td>32.3</td>\n",
       "      <td>9.33</td>\n",
       "      <td>2.030</td>\n",
       "      <td>129.1</td>\n",
       "    </tr>\n",
       "    <tr>\n",
       "      <th>4</th>\n",
       "      <td>447</td>\n",
       "      <td>6</td>\n",
       "      <td>THR</td>\n",
       "      <td>171.5</td>\n",
       "      <td>60.4</td>\n",
       "      <td>67.6</td>\n",
       "      <td>9.27</td>\n",
       "      <td>4.210</td>\n",
       "      <td>126.7</td>\n",
       "    </tr>\n",
       "  </tbody>\n",
       "</table>\n",
       "</div>"
      ],
      "text/plain": [
       "   AccNo  AANo AANM      C    CA    CB     H     HB      N\n",
       "0    447     2  THR  170.8  59.2  69.1  8.06  3.740  114.5\n",
       "1    447     3  PHE    NaN  55.3  41.2  8.58  2.820  124.7\n",
       "2    447     4  LYS  174.7  54.3  31.2  9.17  1.505  124.1\n",
       "3    447     5  VAL    NaN  59.1  32.3  9.33  2.030  129.1\n",
       "4    447     6  THR  171.5  60.4  67.6  9.27  4.210  126.7"
      ]
     },
     "execution_count": 4,
     "metadata": {},
     "output_type": "execute_result"
    }
   ],
   "source": [
    "df.head()"
   ]
  },
  {
   "cell_type": "markdown",
   "metadata": {},
   "source": [
    "### Eliminating outliers"
   ]
  },
  {
   "cell_type": "code",
   "execution_count": 5,
   "metadata": {},
   "outputs": [
    {
     "data": {
      "text/plain": [
       "(485378, 428858, 56520)"
      ]
     },
     "execution_count": 5,
     "metadata": {},
     "output_type": "execute_result"
    }
   ],
   "source": [
    "# by setting ranges for ca,cb and hb GLY points gets removed along with outliers.\n",
    "ca_min=30\n",
    "ca_max=80\n",
    "cb_min=10\n",
    "cb_max=80\n",
    "hb_min=-1\n",
    "hb_max=6\n",
    "df=df[(df['CA'].between(ca_min,ca_max))&(df['CB'].between(cb_min,cb_max)) &(df['HB'].between(hb_min,hb_max))]\n",
    "outlrs=tot-len(df)\n",
    "tot,len(df),outlrs"
   ]
  },
  {
   "cell_type": "code",
   "execution_count": 6,
   "metadata": {
    "collapsed": true
   },
   "outputs": [],
   "source": [
    "df.reset_index(inplace=True,drop=True)"
   ]
  },
  {
   "cell_type": "code",
   "execution_count": 7,
   "metadata": {},
   "outputs": [
    {
     "data": {
      "text/plain": [
       "array(['THR', 'PHE', 'LYS', 'VAL', 'LEU', 'ILE', 'ASN', 'GLU', 'ALA',\n",
       "       'HIS', 'ASP', 'TYR', 'GLN', 'SER', 'MET', 'ARG', 'CYS', 'TRP'], dtype=object)"
      ]
     },
     "execution_count": 7,
     "metadata": {},
     "output_type": "execute_result"
    }
   ],
   "source": [
    "# list of all amino acids except 'GLY' and 'PRO'\n",
    "\n",
    "g= df['AANM'].unique()\n",
    "g"
   ]
  },
  {
   "cell_type": "code",
   "execution_count": 8,
   "metadata": {
    "collapsed": true
   },
   "outputs": [],
   "source": [
    "# KDE analysis is only in 'CA,CB,HB' chemical shift space. Others are dropped from the table\n",
    "# The amino acid label 'AA' is retained \n",
    "df.drop(['AccNo','AANo','N','H'],axis=1,inplace=True)                                                                                     "
   ]
  },
  {
   "cell_type": "code",
   "execution_count": 9,
   "metadata": {},
   "outputs": [
    {
     "data": {
      "text/html": [
       "<div>\n",
       "<style>\n",
       "    .dataframe thead tr:only-child th {\n",
       "        text-align: right;\n",
       "    }\n",
       "\n",
       "    .dataframe thead th {\n",
       "        text-align: left;\n",
       "    }\n",
       "\n",
       "    .dataframe tbody tr th {\n",
       "        vertical-align: top;\n",
       "    }\n",
       "</style>\n",
       "<table border=\"1\" class=\"dataframe\">\n",
       "  <thead>\n",
       "    <tr style=\"text-align: right;\">\n",
       "      <th></th>\n",
       "      <th>AANM</th>\n",
       "      <th>C</th>\n",
       "      <th>CA</th>\n",
       "      <th>CB</th>\n",
       "      <th>HB</th>\n",
       "    </tr>\n",
       "  </thead>\n",
       "  <tbody>\n",
       "    <tr>\n",
       "      <th>0</th>\n",
       "      <td>THR</td>\n",
       "      <td>170.8</td>\n",
       "      <td>59.2</td>\n",
       "      <td>69.1</td>\n",
       "      <td>3.740</td>\n",
       "    </tr>\n",
       "    <tr>\n",
       "      <th>1</th>\n",
       "      <td>PHE</td>\n",
       "      <td>NaN</td>\n",
       "      <td>55.3</td>\n",
       "      <td>41.2</td>\n",
       "      <td>2.820</td>\n",
       "    </tr>\n",
       "    <tr>\n",
       "      <th>2</th>\n",
       "      <td>LYS</td>\n",
       "      <td>174.7</td>\n",
       "      <td>54.3</td>\n",
       "      <td>31.2</td>\n",
       "      <td>1.505</td>\n",
       "    </tr>\n",
       "    <tr>\n",
       "      <th>3</th>\n",
       "      <td>VAL</td>\n",
       "      <td>NaN</td>\n",
       "      <td>59.1</td>\n",
       "      <td>32.3</td>\n",
       "      <td>2.030</td>\n",
       "    </tr>\n",
       "    <tr>\n",
       "      <th>4</th>\n",
       "      <td>THR</td>\n",
       "      <td>171.5</td>\n",
       "      <td>60.4</td>\n",
       "      <td>67.6</td>\n",
       "      <td>4.210</td>\n",
       "    </tr>\n",
       "  </tbody>\n",
       "</table>\n",
       "</div>"
      ],
      "text/plain": [
       "  AANM      C    CA    CB     HB\n",
       "0  THR  170.8  59.2  69.1  3.740\n",
       "1  PHE    NaN  55.3  41.2  2.820\n",
       "2  LYS  174.7  54.3  31.2  1.505\n",
       "3  VAL    NaN  59.1  32.3  2.030\n",
       "4  THR  171.5  60.4  67.6  4.210"
      ]
     },
     "execution_count": 9,
     "metadata": {},
     "output_type": "execute_result"
    }
   ],
   "source": [
    "df.head()"
   ]
  },
  {
   "cell_type": "markdown",
   "metadata": {},
   "source": [
    "### Obtaining the density functions for each amino acid residue seperately "
   ]
  },
  {
   "cell_type": "code",
   "execution_count": 10,
   "metadata": {},
   "outputs": [
    {
     "name": "stdout",
     "output_type": "stream",
     "text": [
      "THR\n",
      "PHE\n",
      "LYS\n",
      "VAL\n",
      "LEU\n",
      "ILE\n",
      "ASN\n",
      "GLU\n",
      "ALA\n",
      "HIS\n",
      "ASP\n",
      "TYR\n",
      "GLN\n",
      "SER\n",
      "MET\n",
      "ARG\n",
      "CYS\n",
      "TRP\n"
     ]
    }
   ],
   "source": [
    "# density function are calculated in both 2D and 3D. \n",
    "# the lists ker and ker3 cosists of the probability density functions.\n",
    "# this process is very fast so one can create every time.\n",
    "\n",
    "ker=[] # (CA,CB) Kernel\n",
    "ker3=[] # (CA,CB,HB) Kernel\n",
    "for aa in g:\n",
    "    dfp=df[df['AANM']==aa]\n",
    "    #2D kernels - (CA,CB)\n",
    "    values=dfp[['CA','CB']].T.values\n",
    "    kernel = st.gaussian_kde(values)\n",
    "    ker.append(kernel)\n",
    "    \n",
    "    #3D kernels -(CA,CB,HB)\n",
    "    values=dfp[['CA','CB','HB']].T.values\n",
    "    kernel = st.gaussian_kde(values)\n",
    "    ker3.append(kernel)\n",
    "    #\n",
    "    print(aa)"
   ]
  },
  {
   "cell_type": "markdown",
   "metadata": {
    "collapsed": true
   },
   "source": [
    "#### Generating KDE values for all the BMRB data is time consuming. For analysis purpose we can prepare it for once and use the same every time. "
   ]
  },
  {
   "cell_type": "raw",
   "metadata": {},
   "source": [
    "# generate cacb KDE values for all the data points\n",
    "cacb=df[['CA','CB']].values.T\n",
    "np.shape(cacb)  # display the shape of cacb\n",
    "\n",
    "# Evaluate Kernel values for each data point in cacbhb\n",
    "\n",
    "dfk=pd.DataFrame()\n",
    "for i in range(len(g)):\n",
    "    print(i,g[i])\n",
    "    dfk[g[i]]=ker[i].evaluate(cacb)\n",
    "    \n",
    "# Save KDE values of all the data points into a file\n",
    "\n",
    "dfk.to_csv('kde_cacb.csv')"
   ]
  },
  {
   "cell_type": "raw",
   "metadata": {
    "collapsed": true
   },
   "source": [
    "# generate cacbhb KDE values\n",
    "cacbhb=df[['CA','CB','HB']].values.T\n",
    "np.shape(cacbhb)  # display the shape of cacbhb\n",
    "\n",
    "# Evaluate Kernel values for each data point in cacbhb\n",
    "\n",
    "dfk=pd.DataFrame()\n",
    "for i in range(len(g)):\n",
    "    print(i,g[i])\n",
    "    dfk[g[i]]=ker3[i].evaluate(cacbhb)\n",
    "    \n",
    "# Save KDE values of all the data points into a file\n",
    "\n",
    "dfk.to_csv('kde_cacbhb.csv')"
   ]
  },
  {
   "cell_type": "markdown",
   "metadata": {},
   "source": [
    "#### We set cutoff for KDE values to retain only meaningful data\n",
    "Here it is 0.00001"
   ]
  },
  {
   "cell_type": "code",
   "execution_count": 13,
   "metadata": {
    "collapsed": true
   },
   "outputs": [],
   "source": [
    "# below 10^-4 made zero\n",
    "dfk[dfk<0.00001]=0"
   ]
  },
  {
   "cell_type": "code",
   "execution_count": 14,
   "metadata": {},
   "outputs": [
    {
     "data": {
      "text/html": [
       "<div>\n",
       "<style>\n",
       "    .dataframe thead tr:only-child th {\n",
       "        text-align: right;\n",
       "    }\n",
       "\n",
       "    .dataframe thead th {\n",
       "        text-align: left;\n",
       "    }\n",
       "\n",
       "    .dataframe tbody tr th {\n",
       "        vertical-align: top;\n",
       "    }\n",
       "</style>\n",
       "<table border=\"1\" class=\"dataframe\">\n",
       "  <thead>\n",
       "    <tr style=\"text-align: right;\">\n",
       "      <th></th>\n",
       "      <th>THR</th>\n",
       "      <th>PHE</th>\n",
       "      <th>LYS</th>\n",
       "      <th>VAL</th>\n",
       "      <th>LEU</th>\n",
       "      <th>ILE</th>\n",
       "      <th>ASN</th>\n",
       "      <th>GLU</th>\n",
       "      <th>ALA</th>\n",
       "      <th>HIS</th>\n",
       "      <th>ASP</th>\n",
       "      <th>TYR</th>\n",
       "      <th>GLN</th>\n",
       "      <th>SER</th>\n",
       "      <th>MET</th>\n",
       "      <th>ARG</th>\n",
       "      <th>CYS</th>\n",
       "      <th>TRP</th>\n",
       "    </tr>\n",
       "  </thead>\n",
       "  <tbody>\n",
       "    <tr>\n",
       "      <th>0</th>\n",
       "      <td>0.009014</td>\n",
       "      <td>0.000000</td>\n",
       "      <td>0.000000</td>\n",
       "      <td>0.000000</td>\n",
       "      <td>0.000018</td>\n",
       "      <td>0.000000</td>\n",
       "      <td>0.000000</td>\n",
       "      <td>0.000000</td>\n",
       "      <td>0.000000</td>\n",
       "      <td>0.000000</td>\n",
       "      <td>0.00000</td>\n",
       "      <td>0.000000</td>\n",
       "      <td>0.000000</td>\n",
       "      <td>0.000108</td>\n",
       "      <td>0.000000</td>\n",
       "      <td>0.000000</td>\n",
       "      <td>0.000000</td>\n",
       "      <td>0.000000</td>\n",
       "    </tr>\n",
       "    <tr>\n",
       "      <th>1</th>\n",
       "      <td>0.000000</td>\n",
       "      <td>0.017428</td>\n",
       "      <td>0.000029</td>\n",
       "      <td>0.000036</td>\n",
       "      <td>0.015407</td>\n",
       "      <td>0.000254</td>\n",
       "      <td>0.005514</td>\n",
       "      <td>0.000000</td>\n",
       "      <td>0.000019</td>\n",
       "      <td>0.000109</td>\n",
       "      <td>0.05097</td>\n",
       "      <td>0.015811</td>\n",
       "      <td>0.000000</td>\n",
       "      <td>0.000000</td>\n",
       "      <td>0.000147</td>\n",
       "      <td>0.000060</td>\n",
       "      <td>0.004469</td>\n",
       "      <td>0.000000</td>\n",
       "    </tr>\n",
       "    <tr>\n",
       "      <th>2</th>\n",
       "      <td>0.000000</td>\n",
       "      <td>0.000166</td>\n",
       "      <td>0.006646</td>\n",
       "      <td>0.000092</td>\n",
       "      <td>0.000020</td>\n",
       "      <td>0.000023</td>\n",
       "      <td>0.000000</td>\n",
       "      <td>0.008866</td>\n",
       "      <td>0.000000</td>\n",
       "      <td>0.017483</td>\n",
       "      <td>0.00000</td>\n",
       "      <td>0.000073</td>\n",
       "      <td>0.021682</td>\n",
       "      <td>0.000000</td>\n",
       "      <td>0.010454</td>\n",
       "      <td>0.012718</td>\n",
       "      <td>0.002315</td>\n",
       "      <td>0.011994</td>\n",
       "    </tr>\n",
       "    <tr>\n",
       "      <th>3</th>\n",
       "      <td>0.000018</td>\n",
       "      <td>0.000084</td>\n",
       "      <td>0.090264</td>\n",
       "      <td>0.006327</td>\n",
       "      <td>0.000000</td>\n",
       "      <td>0.000380</td>\n",
       "      <td>0.000000</td>\n",
       "      <td>0.001369</td>\n",
       "      <td>0.000000</td>\n",
       "      <td>0.007502</td>\n",
       "      <td>0.00000</td>\n",
       "      <td>0.000028</td>\n",
       "      <td>0.000557</td>\n",
       "      <td>0.000000</td>\n",
       "      <td>0.034121</td>\n",
       "      <td>0.002309</td>\n",
       "      <td>0.012137</td>\n",
       "      <td>0.004028</td>\n",
       "    </tr>\n",
       "    <tr>\n",
       "      <th>4</th>\n",
       "      <td>0.006673</td>\n",
       "      <td>0.000000</td>\n",
       "      <td>0.000000</td>\n",
       "      <td>0.000000</td>\n",
       "      <td>0.000000</td>\n",
       "      <td>0.000000</td>\n",
       "      <td>0.000000</td>\n",
       "      <td>0.000000</td>\n",
       "      <td>0.000000</td>\n",
       "      <td>0.000000</td>\n",
       "      <td>0.00000</td>\n",
       "      <td>0.000000</td>\n",
       "      <td>0.000000</td>\n",
       "      <td>0.000204</td>\n",
       "      <td>0.000000</td>\n",
       "      <td>0.000000</td>\n",
       "      <td>0.000000</td>\n",
       "      <td>0.000000</td>\n",
       "    </tr>\n",
       "  </tbody>\n",
       "</table>\n",
       "</div>"
      ],
      "text/plain": [
       "        THR       PHE       LYS       VAL       LEU       ILE       ASN  \\\n",
       "0  0.009014  0.000000  0.000000  0.000000  0.000018  0.000000  0.000000   \n",
       "1  0.000000  0.017428  0.000029  0.000036  0.015407  0.000254  0.005514   \n",
       "2  0.000000  0.000166  0.006646  0.000092  0.000020  0.000023  0.000000   \n",
       "3  0.000018  0.000084  0.090264  0.006327  0.000000  0.000380  0.000000   \n",
       "4  0.006673  0.000000  0.000000  0.000000  0.000000  0.000000  0.000000   \n",
       "\n",
       "        GLU       ALA       HIS      ASP       TYR       GLN       SER  \\\n",
       "0  0.000000  0.000000  0.000000  0.00000  0.000000  0.000000  0.000108   \n",
       "1  0.000000  0.000019  0.000109  0.05097  0.015811  0.000000  0.000000   \n",
       "2  0.008866  0.000000  0.017483  0.00000  0.000073  0.021682  0.000000   \n",
       "3  0.001369  0.000000  0.007502  0.00000  0.000028  0.000557  0.000000   \n",
       "4  0.000000  0.000000  0.000000  0.00000  0.000000  0.000000  0.000204   \n",
       "\n",
       "        MET       ARG       CYS       TRP  \n",
       "0  0.000000  0.000000  0.000000  0.000000  \n",
       "1  0.000147  0.000060  0.004469  0.000000  \n",
       "2  0.010454  0.012718  0.002315  0.011994  \n",
       "3  0.034121  0.002309  0.012137  0.004028  \n",
       "4  0.000000  0.000000  0.000000  0.000000  "
      ]
     },
     "execution_count": 14,
     "metadata": {},
     "output_type": "execute_result"
    }
   ],
   "source": [
    "dfk.head()"
   ]
  },
  {
   "cell_type": "code",
   "execution_count": 15,
   "metadata": {
    "collapsed": true
   },
   "outputs": [],
   "source": [
    "# Pick first five after sorting\n",
    "# New DataFrame consists of five columns with AA number as per the group dictionary\n",
    "\n",
    "dfk_as=dfk.apply(np.argsort,axis=1).iloc[:,[-1,-2,-3,-4,-5]]\n",
    "dfk_s=dfk.apply(np.sort,axis=1).iloc[:,[-1,-2,-3,-4,-5]]"
   ]
  },
  {
   "cell_type": "code",
   "execution_count": 16,
   "metadata": {
    "collapsed": true
   },
   "outputs": [],
   "source": [
    "grp=dict(zip(range(len(g)),g))\n",
    "#grp"
   ]
  },
  {
   "cell_type": "code",
   "execution_count": 17,
   "metadata": {
    "collapsed": true
   },
   "outputs": [],
   "source": [
    "# chaging the positions numbers with corresponding AA\n",
    "dfk_as.replace(grp,inplace=True)"
   ]
  },
  {
   "cell_type": "code",
   "execution_count": 18,
   "metadata": {
    "collapsed": true
   },
   "outputs": [],
   "source": [
    "df['1']=dfk_as.iloc[:,0]\n",
    "df['2']=dfk_as.iloc[:,1]\n",
    "df['3']=dfk_as.iloc[:,2]\n",
    "df['4']=dfk_as.iloc[:,3]\n",
    "df['5']=dfk_as.iloc[:,4]\n",
    "#\n",
    "df['1v']=dfk_s.iloc[:,0]\n",
    "df['2v']=dfk_s.iloc[:,1]\n",
    "df['3v']=dfk_s.iloc[:,2]\n",
    "df['4v']=dfk_s.iloc[:,3]\n",
    "df['5v']=dfk_s.iloc[:,4]"
   ]
  },
  {
   "cell_type": "markdown",
   "metadata": {},
   "source": [
    "## Now df is completely re-arranged data frame for understanding probable identification\n",
    "#### For all [ca,cb,hb] chemical shifts we have labelled information under AANM and kernel values arranged in descending order under [1v, 2v, 3v, 4v, 5v] and their corresponding residue under [1,2,3,4,5]"
   ]
  },
  {
   "cell_type": "code",
   "execution_count": 19,
   "metadata": {},
   "outputs": [
    {
     "data": {
      "text/html": [
       "<div>\n",
       "<style>\n",
       "    .dataframe thead tr:only-child th {\n",
       "        text-align: right;\n",
       "    }\n",
       "\n",
       "    .dataframe thead th {\n",
       "        text-align: left;\n",
       "    }\n",
       "\n",
       "    .dataframe tbody tr th {\n",
       "        vertical-align: top;\n",
       "    }\n",
       "</style>\n",
       "<table border=\"1\" class=\"dataframe\">\n",
       "  <thead>\n",
       "    <tr style=\"text-align: right;\">\n",
       "      <th></th>\n",
       "      <th>AANM</th>\n",
       "      <th>C</th>\n",
       "      <th>CA</th>\n",
       "      <th>CB</th>\n",
       "      <th>HB</th>\n",
       "      <th>1</th>\n",
       "      <th>2</th>\n",
       "      <th>3</th>\n",
       "      <th>4</th>\n",
       "      <th>5</th>\n",
       "      <th>1v</th>\n",
       "      <th>2v</th>\n",
       "      <th>3v</th>\n",
       "      <th>4v</th>\n",
       "      <th>5v</th>\n",
       "    </tr>\n",
       "  </thead>\n",
       "  <tbody>\n",
       "    <tr>\n",
       "      <th>0</th>\n",
       "      <td>THR</td>\n",
       "      <td>170.8</td>\n",
       "      <td>59.2</td>\n",
       "      <td>69.1</td>\n",
       "      <td>3.740</td>\n",
       "      <td>THR</td>\n",
       "      <td>SER</td>\n",
       "      <td>LEU</td>\n",
       "      <td>GLU</td>\n",
       "      <td>PHE</td>\n",
       "      <td>0.009014</td>\n",
       "      <td>0.000108</td>\n",
       "      <td>0.000018</td>\n",
       "      <td>0.000000</td>\n",
       "      <td>0.000000</td>\n",
       "    </tr>\n",
       "    <tr>\n",
       "      <th>1</th>\n",
       "      <td>PHE</td>\n",
       "      <td>NaN</td>\n",
       "      <td>55.3</td>\n",
       "      <td>41.2</td>\n",
       "      <td>2.820</td>\n",
       "      <td>ASP</td>\n",
       "      <td>PHE</td>\n",
       "      <td>TYR</td>\n",
       "      <td>LEU</td>\n",
       "      <td>ASN</td>\n",
       "      <td>0.050970</td>\n",
       "      <td>0.017428</td>\n",
       "      <td>0.015811</td>\n",
       "      <td>0.015407</td>\n",
       "      <td>0.005514</td>\n",
       "    </tr>\n",
       "    <tr>\n",
       "      <th>2</th>\n",
       "      <td>LYS</td>\n",
       "      <td>174.7</td>\n",
       "      <td>54.3</td>\n",
       "      <td>31.2</td>\n",
       "      <td>1.505</td>\n",
       "      <td>GLN</td>\n",
       "      <td>HIS</td>\n",
       "      <td>ARG</td>\n",
       "      <td>TRP</td>\n",
       "      <td>MET</td>\n",
       "      <td>0.021682</td>\n",
       "      <td>0.017483</td>\n",
       "      <td>0.012718</td>\n",
       "      <td>0.011994</td>\n",
       "      <td>0.010454</td>\n",
       "    </tr>\n",
       "    <tr>\n",
       "      <th>3</th>\n",
       "      <td>VAL</td>\n",
       "      <td>NaN</td>\n",
       "      <td>59.1</td>\n",
       "      <td>32.3</td>\n",
       "      <td>2.030</td>\n",
       "      <td>LYS</td>\n",
       "      <td>MET</td>\n",
       "      <td>CYS</td>\n",
       "      <td>HIS</td>\n",
       "      <td>VAL</td>\n",
       "      <td>0.090264</td>\n",
       "      <td>0.034121</td>\n",
       "      <td>0.012137</td>\n",
       "      <td>0.007502</td>\n",
       "      <td>0.006327</td>\n",
       "    </tr>\n",
       "    <tr>\n",
       "      <th>4</th>\n",
       "      <td>THR</td>\n",
       "      <td>171.5</td>\n",
       "      <td>60.4</td>\n",
       "      <td>67.6</td>\n",
       "      <td>4.210</td>\n",
       "      <td>THR</td>\n",
       "      <td>SER</td>\n",
       "      <td>GLU</td>\n",
       "      <td>PHE</td>\n",
       "      <td>LYS</td>\n",
       "      <td>0.006673</td>\n",
       "      <td>0.000204</td>\n",
       "      <td>0.000000</td>\n",
       "      <td>0.000000</td>\n",
       "      <td>0.000000</td>\n",
       "    </tr>\n",
       "  </tbody>\n",
       "</table>\n",
       "</div>"
      ],
      "text/plain": [
       "  AANM      C    CA    CB     HB    1    2    3    4    5        1v        2v  \\\n",
       "0  THR  170.8  59.2  69.1  3.740  THR  SER  LEU  GLU  PHE  0.009014  0.000108   \n",
       "1  PHE    NaN  55.3  41.2  2.820  ASP  PHE  TYR  LEU  ASN  0.050970  0.017428   \n",
       "2  LYS  174.7  54.3  31.2  1.505  GLN  HIS  ARG  TRP  MET  0.021682  0.017483   \n",
       "3  VAL    NaN  59.1  32.3  2.030  LYS  MET  CYS  HIS  VAL  0.090264  0.034121   \n",
       "4  THR  171.5  60.4  67.6  4.210  THR  SER  GLU  PHE  LYS  0.006673  0.000204   \n",
       "\n",
       "         3v        4v        5v  \n",
       "0  0.000018  0.000000  0.000000  \n",
       "1  0.015811  0.015407  0.005514  \n",
       "2  0.012718  0.011994  0.010454  \n",
       "3  0.012137  0.007502  0.006327  \n",
       "4  0.000000  0.000000  0.000000  "
      ]
     },
     "execution_count": 19,
     "metadata": {},
     "output_type": "execute_result"
    }
   ],
   "source": [
    "df.head()"
   ]
  },
  {
   "cell_type": "markdown",
   "metadata": {},
   "source": [
    "## Q1: For how many datapoints the first highest kernel valued residue matches with the label?"
   ]
  },
  {
   "cell_type": "code",
   "execution_count": 20,
   "metadata": {},
   "outputs": [
    {
     "data": {
      "text/plain": [
       "0.6377985253860252"
      ]
     },
     "execution_count": 20,
     "metadata": {},
     "output_type": "execute_result"
    }
   ],
   "source": [
    "len(df[df['AANM']==df['1']])/len(df)"
   ]
  },
  {
   "cell_type": "markdown",
   "metadata": {},
   "source": [
    "## Ans: Its true for 63.8% of all the data"
   ]
  },
  {
   "cell_type": "markdown",
   "metadata": {},
   "source": [
    "## Q2: Using first three highest kernel valued residues how many data points can be recognized? "
   ]
  },
  {
   "cell_type": "code",
   "execution_count": 22,
   "metadata": {},
   "outputs": [
    {
     "data": {
      "text/plain": [
       "0.9460194283422485"
      ]
     },
     "execution_count": 22,
     "metadata": {},
     "output_type": "execute_result"
    }
   ],
   "source": [
    "(len(df[df['AANM']==df['1']]) + len(df[df['AANM']==df['2']]) + len(df[df['AANM']==df['3']])+len(df[df['AANM']==df['4']]) + len(df[df['AANM']==df['5']]))/ len(df) "
   ]
  },
  {
   "cell_type": "markdown",
   "metadata": {},
   "source": [
    "## Ans: 94.6%"
   ]
  },
  {
   "cell_type": "markdown",
   "metadata": {},
   "source": [
    "## Q3: Residue wise identification percentage   "
   ]
  },
  {
   "cell_type": "code",
   "execution_count": 59,
   "metadata": {
    "collapsed": true
   },
   "outputs": [],
   "source": [
    "a1=[]\n",
    "a2=[]\n",
    "a3=[]\n",
    "a4=[]\n",
    "a5=[]\n",
    "for aa in g:\n",
    "    dft=df[df['AANM']==aa]\n",
    "    a1.append(len(dft[dft['AANM']==dft['1']])*100/len(dft))\n",
    "    a2.append(len(dft[dft['AANM']==dft['2']])*100/len(dft))\n",
    "    a3.append(len(dft[dft['AANM']==dft['3']])*100/len(dft))\n",
    "    a4.append(len(dft[dft['AANM']==dft['4']])*100/len(dft))\n",
    "    a5.append(len(dft[dft['AANM']==dft['5']])*100/len(dft))\n",
    "a1=np.array(a1)\n",
    "a2=np.array(a2)\n",
    "a3=np.array(a3)\n",
    "a4=np.array(a4)\n",
    "a5=np.array(a5)"
   ]
  },
  {
   "cell_type": "code",
   "execution_count": 24,
   "metadata": {
    "collapsed": true
   },
   "outputs": [],
   "source": [
    "# positions based on first heighest kernel values\n",
    "dps=a1.argsort()[::-1]"
   ]
  },
  {
   "cell_type": "code",
   "execution_count": 61,
   "metadata": {},
   "outputs": [
    {
     "data": {
      "image/png": "[encoded data removed]",
      "text/plain": [
       "<matplotlib.figure.Figure at 0x11f112b00>"
      ]
     },
     "metadata": {},
     "output_type": "display_data"
    }
   ],
   "source": [
    "p1=plt.bar(np.arange(18),a1[dps],width=0.7)\n",
    "p2=plt.bar(np.arange(18),a2[dps],bottom=a1[dps],width=0.7)\n",
    "p3=plt.bar(np.arange(18),a3[dps],bottom=a1[dps]+a2[dps],width=0.7)\n",
    "p4=plt.bar(np.arange(18),a4[dps],bottom=a1[dps]+a2[dps]+a3[dps],width=0.7)\n",
    "p5=plt.bar(np.arange(18),a5[dps],bottom=a1[dps]+a2[dps]+a3[dps]+a4[dps],width=0.7)\n",
    "plt.xticks(np.arange(18), g[dps], rotation=90)\n",
    "plt.legend((p1[0],p2[0],p3[0],p4[0],p5[0]),('1st','2nd','3rd','4th','5th'),bbox_to_anchor=(1, 0.5))\n",
    "plt.grid(axis='y')\n",
    "plt.show()"
   ]
  },
  {
   "cell_type": "markdown",
   "metadata": {},
   "source": [
    "## Q4: When can we choose residues of highest kernel values?   "
   ]
  },
  {
   "cell_type": "code",
   "execution_count": 62,
   "metadata": {
    "collapsed": true
   },
   "outputs": [],
   "source": [
    "res_1=np.array([len(df[((df['2v']/df['1v'])<dr) & (df['AANM']==df['1'])]) for dr in np.arange(0.0,1,0.01)])"
   ]
  },
  {
   "cell_type": "code",
   "execution_count": 63,
   "metadata": {
    "collapsed": true
   },
   "outputs": [],
   "source": [
    "res_n1=np.array([len(df[((df['2v']/df['1v'])<dr) & (df['AANM']!=df['1'])]) for dr in np.arange(0.0,1,0.01)])"
   ]
  },
  {
   "cell_type": "code",
   "execution_count": 104,
   "metadata": {},
   "outputs": [
    {
     "data": {
      "image/png": "[encoded data removed]",
      "text/plain": [
       "<matplotlib.figure.Figure at 0x11dc4c7f0>"
      ]
     },
     "metadata": {},
     "output_type": "display_data"
    }
   ],
   "source": [
    "pl=plt.plot(np.arange(0.0,1,0.01), res_1*100/len(df))\n",
    "p2=plt.plot(np.arange(0.0,1,0.01), res_n1*100/len(df))\n",
    "plt.vlines(x=0.1, ymin=0,ymax=60)\n",
    "plt.xlabel('2V/1V',fontsize='large')\n",
    "plt.ylabel('% of Data',fontsize='large')\n",
    "plt.legend((p1[0],p2[0]),('res_1','others'),bbox_to_anchor=(1, 0.5))\n",
    "#plt.scatter( 0.1,40, c='purple',s=200, label='arrow' )\n",
    "plt.grid()\n",
    "plt.show()"
   ]
  },
  {
   "cell_type": "markdown",
   "metadata": {},
   "source": [
    "## Ans: From the above plot, when the second highest to 1st highest value ratio is less than 0.1 one can safely choose the residue with highest KDE value."
   ]
  },
  {
   "cell_type": "code",
   "execution_count": 108,
   "metadata": {},
   "outputs": [
    {
     "data": {
      "text/plain": [
       "1356"
      ]
     },
     "execution_count": 108,
     "metadata": {},
     "output_type": "execute_result"
    }
   ],
   "source": [
    "len(df[((df['2v']/df['1v'])<0.1) & (df['AANM']!=df['1'])])  "
   ]
  },
  {
   "cell_type": "markdown",
   "metadata": {},
   "source": [
    " "
   ]
  }
 ],
 "metadata": {
  "kernelspec": {
   "display_name": "Python 3",
   "language": "python",
   "name": "python3"
  },
  "language_info": {
   "codemirror_mode": {
    "name": "ipython",
    "version": 3
   },
   "file_extension": ".py",
   "mimetype": "text/x-python",
   "name": "python",
   "nbconvert_exporter": "python",
   "pygments_lexer": "ipython3",
   "version": "3.6.1"
  }
 },
 "nbformat": 4,
 "nbformat_minor": 2
}
