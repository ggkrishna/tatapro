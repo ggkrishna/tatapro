{
 "cells": [
  {
   "cell_type": "code",
   "execution_count": 12,
   "metadata": {
    "collapsed": true
   },
   "outputs": [],
   "source": [
    "import numpy\n",
    "import pandas\n",
    "from keras.models import Sequential\n",
    "from keras.layers import Dense\n",
    "from keras.utils import np_utils\n",
    "from sklearn.preprocessing import LabelEncoder"
   ]
  },
  {
   "cell_type": "code",
   "execution_count": 13,
   "metadata": {
    "collapsed": true
   },
   "outputs": [],
   "source": [
    "# fix random seed for reproducibility\n",
    "seed = 7\n",
    "numpy.random.seed(seed)"
   ]
  },
  {
   "cell_type": "code",
   "execution_count": 14,
   "metadata": {
    "collapsed": true
   },
   "outputs": [],
   "source": [
    "# load dataset\n",
    "dataframe = pandas.read_csv(\"cacbhb\")"
   ]
  },
  {
   "cell_type": "code",
   "execution_count": 15,
   "metadata": {},
   "outputs": [
    {
     "data": {
      "text/html": [
       "<div>\n",
       "<style>\n",
       "    .dataframe thead tr:only-child th {\n",
       "        text-align: right;\n",
       "    }\n",
       "\n",
       "    .dataframe thead th {\n",
       "        text-align: left;\n",
       "    }\n",
       "\n",
       "    .dataframe tbody tr th {\n",
       "        vertical-align: top;\n",
       "    }\n",
       "</style>\n",
       "<table border=\"1\" class=\"dataframe\">\n",
       "  <thead>\n",
       "    <tr style=\"text-align: right;\">\n",
       "      <th></th>\n",
       "      <th>ID</th>\n",
       "      <th>AAN</th>\n",
       "      <th>AANM</th>\n",
       "      <th>CA</th>\n",
       "      <th>CB</th>\n",
       "      <th>HB</th>\n",
       "    </tr>\n",
       "  </thead>\n",
       "  <tbody>\n",
       "    <tr>\n",
       "      <th>0</th>\n",
       "      <td>447</td>\n",
       "      <td>2</td>\n",
       "      <td>THR</td>\n",
       "      <td>59.2</td>\n",
       "      <td>69.1</td>\n",
       "      <td>3.74</td>\n",
       "    </tr>\n",
       "    <tr>\n",
       "      <th>1</th>\n",
       "      <td>447</td>\n",
       "      <td>3</td>\n",
       "      <td>PHE</td>\n",
       "      <td>55.3</td>\n",
       "      <td>41.2</td>\n",
       "      <td>2.82</td>\n",
       "    </tr>\n",
       "    <tr>\n",
       "      <th>2</th>\n",
       "      <td>447</td>\n",
       "      <td>4</td>\n",
       "      <td>LYS</td>\n",
       "      <td>54.3</td>\n",
       "      <td>31.2</td>\n",
       "      <td>1.50</td>\n",
       "    </tr>\n",
       "    <tr>\n",
       "      <th>3</th>\n",
       "      <td>447</td>\n",
       "      <td>5</td>\n",
       "      <td>VAL</td>\n",
       "      <td>59.1</td>\n",
       "      <td>32.3</td>\n",
       "      <td>2.03</td>\n",
       "    </tr>\n",
       "    <tr>\n",
       "      <th>4</th>\n",
       "      <td>447</td>\n",
       "      <td>6</td>\n",
       "      <td>THR</td>\n",
       "      <td>60.4</td>\n",
       "      <td>67.6</td>\n",
       "      <td>4.21</td>\n",
       "    </tr>\n",
       "  </tbody>\n",
       "</table>\n",
       "</div>"
      ],
      "text/plain": [
       "    ID  AAN AANM    CA    CB    HB\n",
       "0  447    2  THR  59.2  69.1  3.74\n",
       "1  447    3  PHE  55.3  41.2  2.82\n",
       "2  447    4  LYS  54.3  31.2  1.50\n",
       "3  447    5  VAL  59.1  32.3  2.03\n",
       "4  447    6  THR  60.4  67.6  4.21"
      ]
     },
     "execution_count": 15,
     "metadata": {},
     "output_type": "execute_result"
    }
   ],
   "source": [
    "dataframe.head()"
   ]
  },
  {
   "cell_type": "code",
   "execution_count": 23,
   "metadata": {
    "collapsed": true
   },
   "outputs": [],
   "source": [
    "dataset=dataframe[['AANM','CA','CB','HB']].values"
   ]
  },
  {
   "cell_type": "code",
   "execution_count": 24,
   "metadata": {},
   "outputs": [
    {
     "data": {
      "text/plain": [
       "array([['THR', 59.2, 69.1, 3.74],\n",
       "       ['PHE', 55.3, 41.2, 2.82],\n",
       "       ['LYS', 54.3, 31.2, 1.5],\n",
       "       ..., \n",
       "       ['ARG', 59.41, 30.9, 1.83],\n",
       "       ['ALA', 54.82, 19.14, 1.42],\n",
       "       ['ALA', 54.53, 19.53, 1.42]], dtype=object)"
      ]
     },
     "execution_count": 24,
     "metadata": {},
     "output_type": "execute_result"
    }
   ],
   "source": [
    "dataset"
   ]
  },
  {
   "cell_type": "code",
   "execution_count": 25,
   "metadata": {
    "collapsed": true
   },
   "outputs": [],
   "source": [
    "X = dataset[:,1:4].astype(float)\n",
    "Y = dataset[:,0]"
   ]
  },
  {
   "cell_type": "code",
   "execution_count": 27,
   "metadata": {},
   "outputs": [
    {
     "data": {
      "text/plain": [
       "array(['THR', 'PHE', 'LYS', ..., 'ARG', 'ALA', 'ALA'], dtype=object)"
      ]
     },
     "execution_count": 27,
     "metadata": {},
     "output_type": "execute_result"
    }
   ],
   "source": [
    "Y"
   ]
  },
  {
   "cell_type": "code",
   "execution_count": 28,
   "metadata": {
    "collapsed": true
   },
   "outputs": [],
   "source": [
    "# encode class values as integers\n",
    "encoder = LabelEncoder()\n",
    "encoder.fit(Y)\n",
    "encoded_Y = encoder.transform(Y)\n",
    "# convert integers to dummy variables (i.e. one hot encoded)\n",
    "dummy_y = np_utils.to_categorical(encoded_Y)"
   ]
  },
  {
   "cell_type": "code",
   "execution_count": 29,
   "metadata": {
    "collapsed": true
   },
   "outputs": [],
   "source": [
    "# encode class values as integers\n",
    "encoder = LabelEncoder()\n",
    "encoder.fit(Y)\n",
    "encoded_Y = encoder.transform(Y)\n",
    "# convert integers to dummy variables (i.e. one hot encoded)\n",
    "dummy_y = np_utils.to_categorical(encoded_Y)"
   ]
  },
  {
   "cell_type": "code",
   "execution_count": 33,
   "metadata": {},
   "outputs": [
    {
     "data": {
      "text/plain": [
       "(426850, 18)"
      ]
     },
     "execution_count": 33,
     "metadata": {},
     "output_type": "execute_result"
    }
   ],
   "source": [
    "dummy_y.shape"
   ]
  },
  {
   "cell_type": "code",
   "execution_count": 34,
   "metadata": {},
   "outputs": [
    {
     "data": {
      "text/plain": [
       "(426850, 3)"
      ]
     },
     "execution_count": 34,
     "metadata": {},
     "output_type": "execute_result"
    }
   ],
   "source": [
    "X.shape"
   ]
  },
  {
   "cell_type": "code",
   "execution_count": 35,
   "metadata": {
    "collapsed": true
   },
   "outputs": [],
   "source": [
    "# create model\n",
    "model = Sequential()\n",
    "model.add(Dense(8, input_dim=3, activation='relu'))\n",
    "model.add(Dense(18, activation='softmax'))\n",
    "# Compile model\n",
    "model.compile(loss='categorical_crossentropy', optimizer='adam', metrics=['accuracy'])"
   ]
  },
  {
   "cell_type": "code",
   "execution_count": 36,
   "metadata": {},
   "outputs": [
    {
     "name": "stdout",
     "output_type": "stream",
     "text": [
      "Epoch 1/5\n",
      "426850/426850 [==============================] - 75s - loss: 1.3636 - acc: 0.5111    \n",
      "Epoch 2/5\n",
      "426850/426850 [==============================] - 76s - loss: 1.1107 - acc: 0.5847    \n",
      "Epoch 3/5\n",
      "426850/426850 [==============================] - 76s - loss: 1.0527 - acc: 0.6172    \n",
      "Epoch 4/5\n",
      "426850/426850 [==============================] - 75s - loss: 0.9913 - acc: 0.6480    \n",
      "Epoch 5/5\n",
      "426850/426850 [==============================] - 76s - loss: 0.9349 - acc: 0.6706    \n"
     ]
    },
    {
     "data": {
      "text/plain": [
       "<keras.callbacks.History at 0x126b614a8>"
      ]
     },
     "execution_count": 36,
     "metadata": {},
     "output_type": "execute_result"
    }
   ],
   "source": [
    "model.fit(X,dummy_y,batch_size=16,epochs=5)"
   ]
  },
  {
   "cell_type": "code",
   "execution_count": 37,
   "metadata": {},
   "outputs": [
    {
     "name": "stdout",
     "output_type": "stream",
     "text": [
      "Epoch 1/5\n",
      "426850/426850 [==============================] - 75s - loss: 0.8890 - acc: 0.6858    \n",
      "Epoch 2/5\n",
      "426850/426850 [==============================] - 75s - loss: 0.8565 - acc: 0.6960    \n",
      "Epoch 3/5\n",
      "426850/426850 [==============================] - 77s - loss: 0.8354 - acc: 0.7020    \n",
      "Epoch 4/5\n",
      "426850/426850 [==============================] - 76s - loss: 0.8222 - acc: 0.7064    \n",
      "Epoch 5/5\n",
      "426850/426850 [==============================] - 76s - loss: 0.8152 - acc: 0.7085    \n"
     ]
    },
    {
     "data": {
      "text/plain": [
       "<keras.callbacks.History at 0x134781630>"
      ]
     },
     "execution_count": 37,
     "metadata": {},
     "output_type": "execute_result"
    }
   ],
   "source": [
    "model.fit(X,dummy_y,batch_size=16,epochs=5)\n"
   ]
  },
  {
   "cell_type": "code",
   "execution_count": 38,
   "metadata": {},
   "outputs": [
    {
     "name": "stdout",
     "output_type": "stream",
     "text": [
      "Epoch 1/20\n",
      "426850/426850 [==============================] - 75s - loss: 0.8107 - acc: 0.7095    \n",
      "Epoch 2/20\n",
      "426850/426850 [==============================] - 75s - loss: 0.8071 - acc: 0.7106    \n",
      "Epoch 3/20\n",
      "426850/426850 [==============================] - 75s - loss: 0.8055 - acc: 0.7107    \n",
      "Epoch 4/20\n",
      "426850/426850 [==============================] - 75s - loss: 0.8035 - acc: 0.7115    \n",
      "Epoch 5/20\n",
      "426850/426850 [==============================] - 74s - loss: 0.8021 - acc: 0.7120    \n",
      "Epoch 6/20\n",
      "426850/426850 [==============================] - 71s - loss: 0.8009 - acc: 0.7122    \n",
      "Epoch 7/20\n",
      "426850/426850 [==============================] - 71s - loss: 0.8005 - acc: 0.7123    \n",
      "Epoch 8/20\n",
      "426850/426850 [==============================] - 71s - loss: 0.7996 - acc: 0.7129    \n",
      "Epoch 9/20\n",
      "426850/426850 [==============================] - 71s - loss: 0.7990 - acc: 0.7126    \n",
      "Epoch 10/20\n",
      "426850/426850 [==============================] - 71s - loss: 0.7987 - acc: 0.7133    \n",
      "Epoch 11/20\n",
      "426850/426850 [==============================] - 71s - loss: 0.7983 - acc: 0.7132    \n",
      "Epoch 12/20\n",
      "426850/426850 [==============================] - 71s - loss: 0.7970 - acc: 0.7130    \n",
      "Epoch 13/20\n",
      "426850/426850 [==============================] - 71s - loss: 0.7969 - acc: 0.7136    \n",
      "Epoch 14/20\n",
      "426850/426850 [==============================] - 71s - loss: 0.7967 - acc: 0.7139    \n",
      "Epoch 15/20\n",
      "426850/426850 [==============================] - 71s - loss: 0.7959 - acc: 0.7140    \n",
      "Epoch 16/20\n",
      "426850/426850 [==============================] - 71s - loss: 0.7965 - acc: 0.7139    \n",
      "Epoch 17/20\n",
      "426850/426850 [==============================] - 71s - loss: 0.7957 - acc: 0.7138    \n",
      "Epoch 18/20\n",
      "426850/426850 [==============================] - 71s - loss: 0.7955 - acc: 0.7136    \n",
      "Epoch 19/20\n",
      "426850/426850 [==============================] - 71s - loss: 0.7953 - acc: 0.7136    \n",
      "Epoch 20/20\n",
      "426850/426850 [==============================] - 71s - loss: 0.7947 - acc: 0.7143    \n"
     ]
    },
    {
     "data": {
      "text/plain": [
       "<keras.callbacks.History at 0x13c2d8588>"
      ]
     },
     "execution_count": 38,
     "metadata": {},
     "output_type": "execute_result"
    }
   ],
   "source": [
    "model.fit(X,dummy_y,batch_size=16,epochs=20)"
   ]
  },
  {
   "cell_type": "code",
   "execution_count": 41,
   "metadata": {},
   "outputs": [
    {
     "name": "stdout",
     "output_type": "stream",
     "text": [
      "Epoch 1/5\n",
      "426850/426850 [==============================] - 74s - loss: 0.7946 - acc: 0.7144    \n",
      "Epoch 2/5\n",
      "426850/426850 [==============================] - 73s - loss: 0.7938 - acc: 0.7142    \n",
      "Epoch 3/5\n",
      "426850/426850 [==============================] - 74s - loss: 0.7940 - acc: 0.7138    \n",
      "Epoch 4/5\n",
      "426850/426850 [==============================] - 75s - loss: 0.7936 - acc: 0.7145    \n",
      "Epoch 5/5\n",
      "426850/426850 [==============================] - 73s - loss: 0.7934 - acc: 0.7138    \n"
     ]
    },
    {
     "data": {
      "text/plain": [
       "<keras.callbacks.History at 0x126a7d5c0>"
      ]
     },
     "execution_count": 41,
     "metadata": {},
     "output_type": "execute_result"
    }
   ],
   "source": [
    "model.fit(X,dummy_y,batch_size=16,epochs=5)"
   ]
  },
  {
   "cell_type": "code",
   "execution_count": null,
   "metadata": {
    "collapsed": true
   },
   "outputs": [],
   "source": []
  },
  {
   "cell_type": "code",
   "execution_count": 39,
   "metadata": {},
   "outputs": [
    {
     "data": {
      "text/plain": [
       "array([[  0.00000000e+00,   0.00000000e+00,   2.83854883e-21,\n",
       "          2.53819995e-33,   1.45990619e-36,   0.00000000e+00,\n",
       "          0.00000000e+00,   2.41740499e-35,   4.20312190e-24,\n",
       "          5.43381339e-23,   5.57134411e-28,   7.57593931e-31,\n",
       "          0.00000000e+00,   8.50511640e-02,   9.14948881e-01,\n",
       "          0.00000000e+00,   1.43056472e-38,   1.97076379e-28]], dtype=float32)"
      ]
     },
     "execution_count": 39,
     "metadata": {},
     "output_type": "execute_result"
    }
   ],
   "source": [
    "model.predict(X[0:1])"
   ]
  },
  {
   "cell_type": "code",
   "execution_count": 42,
   "metadata": {},
   "outputs": [
    {
     "name": "stdout",
     "output_type": "stream",
     "text": [
      "_________________________________________________________________\n",
      "Layer (type)                 Output Shape              Param #   \n",
      "=================================================================\n",
      "dense_5 (Dense)              (None, 8)                 32        \n",
      "_________________________________________________________________\n",
      "dense_6 (Dense)              (None, 18)                162       \n",
      "=================================================================\n",
      "Total params: 194\n",
      "Trainable params: 194\n",
      "Non-trainable params: 0\n",
      "_________________________________________________________________\n"
     ]
    }
   ],
   "source": [
    "model.summary()"
   ]
  },
  {
   "cell_type": "code",
   "execution_count": null,
   "metadata": {
    "collapsed": true
   },
   "outputs": [],
   "source": [
    "pwd\n"
   ]
  }
 ],
 "metadata": {
  "kernelspec": {
   "display_name": "Python 3",
   "language": "python",
   "name": "python3"
  },
  "language_info": {
   "codemirror_mode": {
    "name": "ipython",
    "version": 3
   },
   "file_extension": ".py",
   "mimetype": "text/x-python",
   "name": "python",
   "nbconvert_exporter": "python",
   "pygments_lexer": "ipython3",
   "version": "3.6.1"
  }
 },
 "nbformat": 4,
 "nbformat_minor": 2
}
